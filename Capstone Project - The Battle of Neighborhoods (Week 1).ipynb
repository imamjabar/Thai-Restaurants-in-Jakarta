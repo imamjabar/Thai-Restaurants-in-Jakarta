{
    "cells": [
        {
            "cell_type": "markdown",
            "metadata": {},
            "source": "# Capstone project: Find Good Location to Open Thailand Restaurant in Jakarta, Indonesia.\n\n---\n***Imam Jabar***\n\nA final report for the course [\"Applied Data Science Capstone\"](https://www.coursera.org/learn/applied-data-science-capstone) given by IBM on Coursera"
        },
        {
            "cell_type": "markdown",
            "metadata": {},
            "source": "## A. Problem's description\n---\n\nThe city of Jakarta is well known to be a cosmopolitan city where you can find people from all around the world with over 11 million people live and it has population density over 16 thousand people per square kilometer. The city is divided into 44 districts in total (including Thousand Island districs). \n\nAn investor is looking to open a new ***Thailand Restaurant*** in Jakarta, but he is not sure about the best location for his new venue and needs input for making the decision. Although there are a lot of districts in Jakarta, their density between them is not uniform. There are some districts containing too many restaurants while there are less in some others.\n\nIf we have some knowledge about the population density, the housing price in each district coupling with an overview of the number of restaurants, we can have a better idea to set up a new business there. We expect to choose a place where the population density is high but fewer competitors. If the housing price in that place is low, it\u2019s more attractive to us.\n\nThe aim of the project is to find a good location for a Thailand Restaurant in Jakarta. This will be determined by analyzing the number of restaurants, the population density, and the average housing price in each district."
        },
        {
            "cell_type": "markdown",
            "metadata": {},
            "source": "## B. Data Description\n---\n\n- List of Jakarta City administrative units from **official Jakarta annual publication** [1] and **OpenStreetMap mapping project** [2]. It gives us a list of all urban districts of Jakarta with their area (in km\u00b2), population (in 2020) and the density of each district (people/km\u00b2).\n- List of the coordinates (latitude, longitude) of 42 urban districts in Jakarta (without Seribu Island). This list can be generated based on the name of each district using **Nominatim** package. *geopy.geocoders.Nominatim*\n- List of average housing prices per m\u00b2 from **real estate marketplace web page** [3].\n- A modified `.json` file that contains all coordinates where we use it to create a choropleth map of Housing Sales Price Index of Jakarta. From **Jakarta Geospatial Information site** [4]\n- **Foursquare API** [5] to select the number of restaurants and their location in some neighborhoods of Jakarta."
        },
        {
            "cell_type": "markdown",
            "metadata": {},
            "source": "## C. Methodology\n---\n1. First, we need to collect all urban districts of Jakarta data from Jakarta annual publication to get **District Name**, **Area**, and **Population**. Also, collect **Average Housing Price** from the real estate marketplace. THen save it to `.csv` file.\n2. The column **Density** is calculated later based on columns **Population** and **Area** of each district.\n3. Throughout the project, we use **numpy** and **pandas** packages to manipulate data frames\n4. We use **geopy.geocoders.Nominatim** package to get the coordinates of districts and add them to the main data frame.\n5. We use **Foursquare API** to explore Thailand Restaurant venues in each district.\n6. For clustering the \"Thailand Restaurant\" venues between districts, we use **K-Means Clustering** method and the package **scikit-learn** to implement the algorithm on our data. In order to indicate how many K for the method, we try with 10 different values of K from 1 to 10 and use the **elbow method** to choose the most appropriate one.\n7. In order to visualize the charts, we use package **matplotlib**.\n8. We use the package **folium** to visualize Jakarta map with its districts."
        },
        {
            "cell_type": "markdown",
            "metadata": {},
            "source": "## D. References:\n\n* [1] [DKI Jakarta Province in Figures](https://jakarta.bps.go.id/publication/2020/04/27/20f5a58abcb80a0ad2a88725/provinsi-dki-jakarta-dalam-angka-2020.html)\n* [2] [HOT PDC InAWARE Mapping Project 2017](https://issuu.com/harryhotosm)\n* [3] [Lamudi](https://www.lamudi.co.id/trends/)\n* [4] [Jakarta Geospatial Site](http://gis.bpbd.jakarta.go.id/layers/geonode%3Adki_kecamatan)\n* [5] [Foursquare API](https://developer.foursquare.com/)"
        }
    ],
    "metadata": {
        "kernelspec": {
            "display_name": "Python 3.7",
            "language": "python",
            "name": "python3"
        },
        "language_info": {
            "codemirror_mode": {
                "name": "ipython",
                "version": 3
            },
            "file_extension": ".py",
            "mimetype": "text/x-python",
            "name": "python",
            "nbconvert_exporter": "python",
            "pygments_lexer": "ipython3",
            "version": "3.7.9"
        }
    },
    "nbformat": 4,
    "nbformat_minor": 2
}